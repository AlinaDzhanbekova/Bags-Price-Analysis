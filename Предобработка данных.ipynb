{
 "cells": [
  {
   "cell_type": "code",
   "execution_count": 1,
   "id": "f1fd055a",
   "metadata": {},
   "outputs": [],
   "source": [
    "import pandas as pd"
   ]
  },
  {
   "cell_type": "markdown",
   "id": "8c6b90ad",
   "metadata": {},
   "source": [
    "## Предварительная обработка данных"
   ]
  },
  {
   "cell_type": "code",
   "execution_count": 2,
   "id": "286e7c82",
   "metadata": {},
   "outputs": [
    {
     "name": "stdout",
     "output_type": "stream",
     "text": [
      "(1063, 16)\n"
     ]
    },
    {
     "data": {
      "text/html": [
       "<div>\n",
       "<style scoped>\n",
       "    .dataframe tbody tr th:only-of-type {\n",
       "        vertical-align: middle;\n",
       "    }\n",
       "\n",
       "    .dataframe tbody tr th {\n",
       "        vertical-align: top;\n",
       "    }\n",
       "\n",
       "    .dataframe thead th {\n",
       "        text-align: right;\n",
       "    }\n",
       "</style>\n",
       "<table border=\"1\" class=\"dataframe\">\n",
       "  <thead>\n",
       "    <tr style=\"text-align: right;\">\n",
       "      <th></th>\n",
       "      <th>Размер</th>\n",
       "      <th>Раздел</th>\n",
       "      <th>Категория</th>\n",
       "      <th>Бренд</th>\n",
       "      <th>Материал сумок</th>\n",
       "      <th>Цвет</th>\n",
       "      <th>Длина ручки</th>\n",
       "      <th>Наличие пыльника</th>\n",
       "      <th>Состояние товара</th>\n",
       "      <th>Продавец</th>\n",
       "      <th>Oskelly ID</th>\n",
       "      <th>Цена</th>\n",
       "      <th>Модель</th>\n",
       "      <th>Винтаж</th>\n",
       "      <th>Наличие коробки</th>\n",
       "      <th>Наличие сертификата</th>\n",
       "    </tr>\n",
       "  </thead>\n",
       "  <tbody>\n",
       "    <tr>\n",
       "      <th>0</th>\n",
       "      <td>INT L</td>\n",
       "      <td>Женское</td>\n",
       "      <td>Сумки с короткими ручками</td>\n",
       "      <td>MARC JACOBS</td>\n",
       "      <td>Экзотическая кожа</td>\n",
       "      <td>Серебряный</td>\n",
       "      <td>Средние ручки</td>\n",
       "      <td>Да</td>\n",
       "      <td>Отличное состояние</td>\n",
       "      <td>Частный продавец</td>\n",
       "      <td>1993293</td>\n",
       "      <td>52000</td>\n",
       "      <td>NaN</td>\n",
       "      <td>NaN</td>\n",
       "      <td>NaN</td>\n",
       "      <td>NaN</td>\n",
       "    </tr>\n",
       "    <tr>\n",
       "      <th>1</th>\n",
       "      <td>INT S</td>\n",
       "      <td>Женское</td>\n",
       "      <td>Клатчи и вечерние сумки</td>\n",
       "      <td>VERSACE</td>\n",
       "      <td>Кожа</td>\n",
       "      <td>Черный</td>\n",
       "      <td>Короткие ручки</td>\n",
       "      <td>NaN</td>\n",
       "      <td>Отличное состояние</td>\n",
       "      <td>Частный продавец</td>\n",
       "      <td>1993444</td>\n",
       "      <td>38000</td>\n",
       "      <td>NaN</td>\n",
       "      <td>NaN</td>\n",
       "      <td>NaN</td>\n",
       "      <td>NaN</td>\n",
       "    </tr>\n",
       "    <tr>\n",
       "      <th>2</th>\n",
       "      <td>INT M</td>\n",
       "      <td>Женское</td>\n",
       "      <td>Сумки через плечо</td>\n",
       "      <td>BALENCIAGA</td>\n",
       "      <td>Кожа</td>\n",
       "      <td>Желтый</td>\n",
       "      <td>Длинный ремень</td>\n",
       "      <td>NaN</td>\n",
       "      <td>Новое с биркой</td>\n",
       "      <td>Частный продавец</td>\n",
       "      <td>2035063</td>\n",
       "      <td>345000</td>\n",
       "      <td>Crush</td>\n",
       "      <td>NaN</td>\n",
       "      <td>NaN</td>\n",
       "      <td>NaN</td>\n",
       "    </tr>\n",
       "    <tr>\n",
       "      <th>3</th>\n",
       "      <td>INT U</td>\n",
       "      <td>Женское</td>\n",
       "      <td>Сумки с короткими ручками</td>\n",
       "      <td>BURBERRY</td>\n",
       "      <td>Кожа</td>\n",
       "      <td>Коричневый</td>\n",
       "      <td>Средние ручки</td>\n",
       "      <td>NaN</td>\n",
       "      <td>Отличное состояние</td>\n",
       "      <td>Частный продавец</td>\n",
       "      <td>1941649</td>\n",
       "      <td>27000</td>\n",
       "      <td>NaN</td>\n",
       "      <td>Да</td>\n",
       "      <td>NaN</td>\n",
       "      <td>NaN</td>\n",
       "    </tr>\n",
       "    <tr>\n",
       "      <th>4</th>\n",
       "      <td>INT M</td>\n",
       "      <td>Женское</td>\n",
       "      <td>Сумки с короткими ручками</td>\n",
       "      <td>KARL LAGERFELD</td>\n",
       "      <td>Искусственная кожа</td>\n",
       "      <td>Мульти</td>\n",
       "      <td>Средние ручки</td>\n",
       "      <td>NaN</td>\n",
       "      <td>Новое с биркой</td>\n",
       "      <td>Частный продавец</td>\n",
       "      <td>2008104</td>\n",
       "      <td>17950</td>\n",
       "      <td>NaN</td>\n",
       "      <td>NaN</td>\n",
       "      <td>NaN</td>\n",
       "      <td>NaN</td>\n",
       "    </tr>\n",
       "  </tbody>\n",
       "</table>\n",
       "</div>"
      ],
      "text/plain": [
       "  Размер   Раздел                  Категория           Бренд  \\\n",
       "0  INT L  Женское  Сумки с короткими ручками     MARC JACOBS   \n",
       "1  INT S  Женское    Клатчи и вечерние сумки         VERSACE   \n",
       "2  INT M  Женское          Сумки через плечо      BALENCIAGA   \n",
       "3  INT U  Женское  Сумки с короткими ручками        BURBERRY   \n",
       "4  INT M  Женское  Сумки с короткими ручками  KARL LAGERFELD   \n",
       "\n",
       "       Материал сумок        Цвет     Длина ручки Наличие пыльника  \\\n",
       "0   Экзотическая кожа  Серебряный   Средние ручки               Да   \n",
       "1                Кожа      Черный  Короткие ручки              NaN   \n",
       "2                Кожа      Желтый  Длинный ремень              NaN   \n",
       "3                Кожа  Коричневый   Средние ручки              NaN   \n",
       "4  Искусственная кожа      Мульти   Средние ручки              NaN   \n",
       "\n",
       "     Состояние товара          Продавец  Oskelly ID    Цена Модель Винтаж  \\\n",
       "0  Отличное состояние  Частный продавец     1993293   52000    NaN    NaN   \n",
       "1  Отличное состояние  Частный продавец     1993444   38000    NaN    NaN   \n",
       "2      Новое с биркой  Частный продавец     2035063  345000  Crush    NaN   \n",
       "3  Отличное состояние  Частный продавец     1941649   27000    NaN     Да   \n",
       "4      Новое с биркой  Частный продавец     2008104   17950    NaN    NaN   \n",
       "\n",
       "  Наличие коробки Наличие сертификата  \n",
       "0             NaN                 NaN  \n",
       "1             NaN                 NaN  \n",
       "2             NaN                 NaN  \n",
       "3             NaN                 NaN  \n",
       "4             NaN                 NaN  "
      ]
     },
     "execution_count": 2,
     "metadata": {},
     "output_type": "execute_result"
    }
   ],
   "source": [
    "df = pd.read_csv('bag_data.csv')\n",
    "print(df.shape)\n",
    "df.head()"
   ]
  },
  {
   "cell_type": "markdown",
   "id": "c69b2746",
   "metadata": {},
   "source": [
    "Подготовленный мной датасет представляет из себя 1063 объявления, опубликованных на сайте oskelly.com, специализирующемся на вторичной продаже сумок. Каждое объявление содержит информацию о продаваемой сумке и ее стоимость."
   ]
  },
  {
   "cell_type": "markdown",
   "id": "702bae07",
   "metadata": {},
   "source": [
    "## Анализ признаков"
   ]
  },
  {
   "cell_type": "markdown",
   "id": "adb48cde",
   "metadata": {},
   "source": [
    "Итак, исходный датасет имеет 15 признаков/колонок и 1 целевую переменную, которую мы в финальной части нашего проекта будем предсказывать. Это переменная 'Цена'. Теперь давайте пройдемся по каждому столбцу нашей таблицы и посмотрим, что в них содержится:\n",
    "   * **Размер** - размер сумки\n",
    "       * INT U - ONE SIZE\n",
    "       * INT XS \n",
    "       * INT S\n",
    "       * INT M\n",
    "       * INT L\n",
    "       * INT XL       \n",
    "   * **Раздел** - Женское/Мужское\n",
    "   * **Категории** - тоут/через плечо/с короткими ручками/рюкзаки/клатчи/аксессуары для сумок\n",
    "   * **Бренд** - бренд сумки \n",
    "   * **Материал** - материал сумок \n",
    "   * **Цвет** - цвет сумки\n",
    "   * **Длина ручки** \n",
    "   * **Наличие пыльника**\n",
    "   * **Состояние товара** - отличное/хорошее/новое с биркой \n",
    "   * **Продавец** - частный продавец/бутик \n",
    "   * **Oskelly ID** - ID продавца\n",
    "   * **Модель** - если у бренда есть определенная модель сумок \n",
    "   * **Винтаж** - является ли сумка винтажной \n",
    "   * **Наличие коробки**\n",
    "   * **Наличие сертификата** - наличие сертификата подлинности"
   ]
  },
  {
   "cell_type": "code",
   "execution_count": 3,
   "id": "dc8bff71",
   "metadata": {},
   "outputs": [
    {
     "data": {
      "text/plain": [
       "Размер                   3\n",
       "Раздел                   0\n",
       "Категория                0\n",
       "Бренд                    0\n",
       "Материал сумок           0\n",
       "Цвет                     0\n",
       "Длина ручки              0\n",
       "Наличие пыльника       751\n",
       "Состояние товара         0\n",
       "Продавец                 0\n",
       "Oskelly ID               0\n",
       "Цена                     0\n",
       "Модель                 664\n",
       "Винтаж                 992\n",
       "Наличие коробки        965\n",
       "Наличие сертификата    973\n",
       "dtype: int64"
      ]
     },
     "execution_count": 3,
     "metadata": {},
     "output_type": "execute_result"
    }
   ],
   "source": [
    "df.isna().sum()"
   ]
  },
  {
   "cell_type": "code",
   "execution_count": 4,
   "id": "4cea0dd5",
   "metadata": {},
   "outputs": [
    {
     "name": "stdout",
     "output_type": "stream",
     "text": [
      "    Размер   Раздел   Категория        Бренд Материал сумок     Цвет  \\\n",
      "500    NaN  Женское  Сумки тоут        PRADA           Кожа  Бежевый   \n",
      "754    NaN  Женское  Сумки тоут        PRADA           Кожа  Бежевый   \n",
      "874    NaN  Женское  Сумки тоут  MARC JACOBS           Кожа   Черный   \n",
      "\n",
      "        Длина ручки Наличие пыльника   Состояние товара          Продавец  \\\n",
      "500   Средние ручки              NaN  Хорошее состояние  Частный продавец   \n",
      "754   Средние ручки              NaN  Хорошее состояние  Частный продавец   \n",
      "874  Длинный ремень              NaN     Новое с биркой  Частный продавец   \n",
      "\n",
      "     Oskelly ID   Цена        Модель Винтаж Наличие коробки  \\\n",
      "500     2008263  30500           NaN     Да             NaN   \n",
      "754     2008263  30500           NaN     Да             NaN   \n",
      "874     1926273  62000  The Tote Bag    NaN             NaN   \n",
      "\n",
      "    Наличие сертификата  \n",
      "500                 NaN  \n",
      "754                 NaN  \n",
      "874                 NaN  \n"
     ]
    }
   ],
   "source": [
    "missing_size = df.loc[df['Размер'].isnull()]\n",
    "print(missing_size)"
   ]
  },
  {
   "cell_type": "markdown",
   "id": "7b346069",
   "metadata": {},
   "source": [
    "Заменим в строках с пропущенным размером на INT U"
   ]
  },
  {
   "cell_type": "code",
   "execution_count": 5,
   "id": "4263514b",
   "metadata": {},
   "outputs": [],
   "source": [
    "df['Размер'] = df['Размер'].fillna('INT U')"
   ]
  },
  {
   "cell_type": "code",
   "execution_count": 6,
   "id": "2ce43034",
   "metadata": {},
   "outputs": [
    {
     "data": {
      "text/plain": [
       "array(['Женское'], dtype=object)"
      ]
     },
     "execution_count": 6,
     "metadata": {},
     "output_type": "execute_result"
    }
   ],
   "source": [
    "df['Раздел'].unique()"
   ]
  },
  {
   "cell_type": "markdown",
   "id": "1c055162",
   "metadata": {},
   "source": [
    "Удалим эту колонку, т.к. исследуем только женские сумки"
   ]
  },
  {
   "cell_type": "code",
   "execution_count": 7,
   "id": "bee9d044",
   "metadata": {},
   "outputs": [],
   "source": [
    "df.drop(columns=['Раздел'], inplace=True)"
   ]
  },
  {
   "cell_type": "markdown",
   "id": "4312410b",
   "metadata": {},
   "source": [
    "Это достаточно уникальный признак для каждой строки, тем более мы анализируем стоимость сумок впринципе, поэтому удалим этот признак. Признак \"Модель\" оставим, так как он заполнен для действительно культовых классических моделей, стоимость которых строится не только на материале, размере и имени бренда, но во многом на самой модели. Пустые значения в этой колонке заменим на \"Ordinary\""
   ]
  },
  {
   "cell_type": "code",
   "execution_count": 8,
   "id": "7a00771a",
   "metadata": {},
   "outputs": [],
   "source": [
    "df.drop(columns=['Oskelly ID'], inplace=True)\n",
    "df['Модель'] = df['Модель'].fillna('Ordinary')"
   ]
  },
  {
   "cell_type": "code",
   "execution_count": 9,
   "id": "8bce2cbb",
   "metadata": {},
   "outputs": [
    {
     "name": "stdout",
     "output_type": "stream",
     "text": [
      "Количество уникальных значений в колонке 'Oskelly ID': 9\n"
     ]
    }
   ],
   "source": [
    "unique_values = df['Категория'].nunique()\n",
    "\n",
    "print(\"Количество уникальных значений в колонке 'Oskelly ID':\", unique_values)"
   ]
  },
  {
   "cell_type": "markdown",
   "id": "d2f805e3",
   "metadata": {},
   "source": [
    "Бинарные признаки приведем к необходимому виду, где 1 соответсвует \"Да\", а 0 - пустой ячейке"
   ]
  },
  {
   "cell_type": "code",
   "execution_count": 10,
   "id": "907ee7ca",
   "metadata": {},
   "outputs": [],
   "source": [
    "df['Винтаж'] = df['Винтаж'].apply(lambda x: 1 if x == 'Да' else 0)\n",
    "df['Наличие пыльника'] = df['Наличие пыльника'].apply(lambda x: 1 if x == 'Да' else 0)\n",
    "df['Наличие коробки'] = df['Наличие коробки'].apply(lambda x: 1 if x == 'Да' else 0)\n",
    "df['Наличие сертификата'] = df['Наличие сертификата'].apply(lambda x: 1 if x == 'Да' else 0)"
   ]
  },
  {
   "cell_type": "code",
   "execution_count": 11,
   "id": "0fd5cf8e",
   "metadata": {},
   "outputs": [
    {
     "data": {
      "text/plain": [
       "Размер                 0\n",
       "Категория              0\n",
       "Бренд                  0\n",
       "Материал сумок         0\n",
       "Цвет                   0\n",
       "Длина ручки            0\n",
       "Наличие пыльника       0\n",
       "Состояние товара       0\n",
       "Продавец               0\n",
       "Цена                   0\n",
       "Модель                 0\n",
       "Винтаж                 0\n",
       "Наличие коробки        0\n",
       "Наличие сертификата    0\n",
       "dtype: int64"
      ]
     },
     "execution_count": 11,
     "metadata": {},
     "output_type": "execute_result"
    }
   ],
   "source": [
    "df.isna().sum()"
   ]
  },
  {
   "cell_type": "code",
   "execution_count": 12,
   "id": "f2f237c3",
   "metadata": {},
   "outputs": [
    {
     "data": {
      "text/html": [
       "<div>\n",
       "<style scoped>\n",
       "    .dataframe tbody tr th:only-of-type {\n",
       "        vertical-align: middle;\n",
       "    }\n",
       "\n",
       "    .dataframe tbody tr th {\n",
       "        vertical-align: top;\n",
       "    }\n",
       "\n",
       "    .dataframe thead th {\n",
       "        text-align: right;\n",
       "    }\n",
       "</style>\n",
       "<table border=\"1\" class=\"dataframe\">\n",
       "  <thead>\n",
       "    <tr style=\"text-align: right;\">\n",
       "      <th></th>\n",
       "      <th>Размер</th>\n",
       "      <th>Категория</th>\n",
       "      <th>Бренд</th>\n",
       "      <th>Материал сумок</th>\n",
       "      <th>Цвет</th>\n",
       "      <th>Длина ручки</th>\n",
       "      <th>Наличие пыльника</th>\n",
       "      <th>Состояние товара</th>\n",
       "      <th>Продавец</th>\n",
       "      <th>Цена</th>\n",
       "      <th>Модель</th>\n",
       "      <th>Винтаж</th>\n",
       "      <th>Наличие коробки</th>\n",
       "      <th>Наличие сертификата</th>\n",
       "    </tr>\n",
       "  </thead>\n",
       "  <tbody>\n",
       "    <tr>\n",
       "      <th>0</th>\n",
       "      <td>INT L</td>\n",
       "      <td>Сумки с короткими ручками</td>\n",
       "      <td>MARC JACOBS</td>\n",
       "      <td>Экзотическая кожа</td>\n",
       "      <td>Серебряный</td>\n",
       "      <td>Средние ручки</td>\n",
       "      <td>1</td>\n",
       "      <td>Отличное состояние</td>\n",
       "      <td>Частный продавец</td>\n",
       "      <td>52000</td>\n",
       "      <td>Ordinary</td>\n",
       "      <td>0</td>\n",
       "      <td>0</td>\n",
       "      <td>0</td>\n",
       "    </tr>\n",
       "    <tr>\n",
       "      <th>1</th>\n",
       "      <td>INT S</td>\n",
       "      <td>Клатчи и вечерние сумки</td>\n",
       "      <td>VERSACE</td>\n",
       "      <td>Кожа</td>\n",
       "      <td>Черный</td>\n",
       "      <td>Короткие ручки</td>\n",
       "      <td>0</td>\n",
       "      <td>Отличное состояние</td>\n",
       "      <td>Частный продавец</td>\n",
       "      <td>38000</td>\n",
       "      <td>Ordinary</td>\n",
       "      <td>0</td>\n",
       "      <td>0</td>\n",
       "      <td>0</td>\n",
       "    </tr>\n",
       "    <tr>\n",
       "      <th>2</th>\n",
       "      <td>INT M</td>\n",
       "      <td>Сумки через плечо</td>\n",
       "      <td>BALENCIAGA</td>\n",
       "      <td>Кожа</td>\n",
       "      <td>Желтый</td>\n",
       "      <td>Длинный ремень</td>\n",
       "      <td>0</td>\n",
       "      <td>Новое с биркой</td>\n",
       "      <td>Частный продавец</td>\n",
       "      <td>345000</td>\n",
       "      <td>Crush</td>\n",
       "      <td>0</td>\n",
       "      <td>0</td>\n",
       "      <td>0</td>\n",
       "    </tr>\n",
       "    <tr>\n",
       "      <th>3</th>\n",
       "      <td>INT U</td>\n",
       "      <td>Сумки с короткими ручками</td>\n",
       "      <td>BURBERRY</td>\n",
       "      <td>Кожа</td>\n",
       "      <td>Коричневый</td>\n",
       "      <td>Средние ручки</td>\n",
       "      <td>0</td>\n",
       "      <td>Отличное состояние</td>\n",
       "      <td>Частный продавец</td>\n",
       "      <td>27000</td>\n",
       "      <td>Ordinary</td>\n",
       "      <td>1</td>\n",
       "      <td>0</td>\n",
       "      <td>0</td>\n",
       "    </tr>\n",
       "    <tr>\n",
       "      <th>4</th>\n",
       "      <td>INT M</td>\n",
       "      <td>Сумки с короткими ручками</td>\n",
       "      <td>KARL LAGERFELD</td>\n",
       "      <td>Искусственная кожа</td>\n",
       "      <td>Мульти</td>\n",
       "      <td>Средние ручки</td>\n",
       "      <td>0</td>\n",
       "      <td>Новое с биркой</td>\n",
       "      <td>Частный продавец</td>\n",
       "      <td>17950</td>\n",
       "      <td>Ordinary</td>\n",
       "      <td>0</td>\n",
       "      <td>0</td>\n",
       "      <td>0</td>\n",
       "    </tr>\n",
       "  </tbody>\n",
       "</table>\n",
       "</div>"
      ],
      "text/plain": [
       "  Размер                  Категория           Бренд      Материал сумок  \\\n",
       "0  INT L  Сумки с короткими ручками     MARC JACOBS   Экзотическая кожа   \n",
       "1  INT S    Клатчи и вечерние сумки         VERSACE                Кожа   \n",
       "2  INT M          Сумки через плечо      BALENCIAGA                Кожа   \n",
       "3  INT U  Сумки с короткими ручками        BURBERRY                Кожа   \n",
       "4  INT M  Сумки с короткими ручками  KARL LAGERFELD  Искусственная кожа   \n",
       "\n",
       "         Цвет     Длина ручки  Наличие пыльника    Состояние товара  \\\n",
       "0  Серебряный   Средние ручки                 1  Отличное состояние   \n",
       "1      Черный  Короткие ручки                 0  Отличное состояние   \n",
       "2      Желтый  Длинный ремень                 0      Новое с биркой   \n",
       "3  Коричневый   Средние ручки                 0  Отличное состояние   \n",
       "4      Мульти   Средние ручки                 0      Новое с биркой   \n",
       "\n",
       "           Продавец    Цена    Модель  Винтаж  Наличие коробки  \\\n",
       "0  Частный продавец   52000  Ordinary       0                0   \n",
       "1  Частный продавец   38000  Ordinary       0                0   \n",
       "2  Частный продавец  345000     Crush       0                0   \n",
       "3  Частный продавец   27000  Ordinary       1                0   \n",
       "4  Частный продавец   17950  Ordinary       0                0   \n",
       "\n",
       "   Наличие сертификата  \n",
       "0                    0  \n",
       "1                    0  \n",
       "2                    0  \n",
       "3                    0  \n",
       "4                    0  "
      ]
     },
     "execution_count": 12,
     "metadata": {},
     "output_type": "execute_result"
    }
   ],
   "source": [
    "df.head()"
   ]
  },
  {
   "cell_type": "code",
   "execution_count": 13,
   "id": "2fca78df",
   "metadata": {},
   "outputs": [],
   "source": [
    "# Сохраним итоговую таблицу\n",
    "df.to_csv('bags_df_process.csv', index=False)"
   ]
  }
 ],
 "metadata": {
  "kernelspec": {
   "display_name": "Python 3 (ipykernel)",
   "language": "python",
   "name": "python3"
  },
  "language_info": {
   "codemirror_mode": {
    "name": "ipython",
    "version": 3
   },
   "file_extension": ".py",
   "mimetype": "text/x-python",
   "name": "python",
   "nbconvert_exporter": "python",
   "pygments_lexer": "ipython3",
   "version": "3.11.3"
  }
 },
 "nbformat": 4,
 "nbformat_minor": 5
}
