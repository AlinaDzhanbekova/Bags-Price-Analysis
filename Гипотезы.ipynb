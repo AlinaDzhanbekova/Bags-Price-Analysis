{
 "cells": [
  {
   "cell_type": "code",
   "execution_count": 11,
   "id": "83ae58d0",
   "metadata": {},
   "outputs": [],
   "source": [
    "import pandas as pd \n",
    "import numpy as np\n",
    "import matplotlib.pyplot as plt\n",
    "import seaborn as sns\n",
    "from PIL import Image\n",
    "from wordcloud import STOPWORDS, WordCloud\n",
    "from scipy import stats as sts\n",
    "import statistics as st\n",
    "from scipy.stats import ks_2samp\n",
    "\n",
    "import warnings\n",
    "warnings.filterwarnings(\"ignore\")"
   ]
  },
  {
   "cell_type": "code",
   "execution_count": 2,
   "id": "77761a81",
   "metadata": {},
   "outputs": [
    {
     "data": {
      "text/html": [
       "<div>\n",
       "<style scoped>\n",
       "    .dataframe tbody tr th:only-of-type {\n",
       "        vertical-align: middle;\n",
       "    }\n",
       "\n",
       "    .dataframe tbody tr th {\n",
       "        vertical-align: top;\n",
       "    }\n",
       "\n",
       "    .dataframe thead th {\n",
       "        text-align: right;\n",
       "    }\n",
       "</style>\n",
       "<table border=\"1\" class=\"dataframe\">\n",
       "  <thead>\n",
       "    <tr style=\"text-align: right;\">\n",
       "      <th></th>\n",
       "      <th>Размер</th>\n",
       "      <th>Категория</th>\n",
       "      <th>Бренд</th>\n",
       "      <th>Материал сумок</th>\n",
       "      <th>Цвет</th>\n",
       "      <th>Длина ручки</th>\n",
       "      <th>Наличие пыльника</th>\n",
       "      <th>Состояние товара</th>\n",
       "      <th>Модель</th>\n",
       "      <th>Винтаж</th>\n",
       "      <th>Наличие коробки</th>\n",
       "      <th>Наличие сертификата</th>\n",
       "      <th>Ценовая категория</th>\n",
       "      <th>Метод производства</th>\n",
       "      <th>Легенда</th>\n",
       "      <th>Цена</th>\n",
       "    </tr>\n",
       "  </thead>\n",
       "  <tbody>\n",
       "    <tr>\n",
       "      <th>0</th>\n",
       "      <td>INT L</td>\n",
       "      <td>Сумки с короткими ручками</td>\n",
       "      <td>MARC JACOBS</td>\n",
       "      <td>Экзотическая кожа</td>\n",
       "      <td>Серебряный</td>\n",
       "      <td>Средние ручки</td>\n",
       "      <td>1</td>\n",
       "      <td>Отличное состояние</td>\n",
       "      <td>Ordinary</td>\n",
       "      <td>0</td>\n",
       "      <td>0</td>\n",
       "      <td>0</td>\n",
       "      <td>Дорогие</td>\n",
       "      <td>Произведенные на фабрике</td>\n",
       "      <td>0</td>\n",
       "      <td>52000</td>\n",
       "    </tr>\n",
       "    <tr>\n",
       "      <th>1</th>\n",
       "      <td>INT S</td>\n",
       "      <td>Клатчи и вечерние сумки</td>\n",
       "      <td>VERSACE</td>\n",
       "      <td>Кожа</td>\n",
       "      <td>Черный</td>\n",
       "      <td>Короткие ручки</td>\n",
       "      <td>0</td>\n",
       "      <td>Отличное состояние</td>\n",
       "      <td>Ordinary</td>\n",
       "      <td>0</td>\n",
       "      <td>0</td>\n",
       "      <td>0</td>\n",
       "      <td>Дорогие</td>\n",
       "      <td>Произведенные на фабрике</td>\n",
       "      <td>0</td>\n",
       "      <td>38000</td>\n",
       "    </tr>\n",
       "    <tr>\n",
       "      <th>2</th>\n",
       "      <td>INT M</td>\n",
       "      <td>Сумки через плечо</td>\n",
       "      <td>BALENCIAGA</td>\n",
       "      <td>Кожа</td>\n",
       "      <td>Желтый</td>\n",
       "      <td>Длинный ремень</td>\n",
       "      <td>0</td>\n",
       "      <td>Новое с биркой</td>\n",
       "      <td>Crush</td>\n",
       "      <td>0</td>\n",
       "      <td>0</td>\n",
       "      <td>0</td>\n",
       "      <td>Люксовые</td>\n",
       "      <td>Произведенные на фабрике</td>\n",
       "      <td>1</td>\n",
       "      <td>345000</td>\n",
       "    </tr>\n",
       "    <tr>\n",
       "      <th>3</th>\n",
       "      <td>INT U</td>\n",
       "      <td>Сумки с короткими ручками</td>\n",
       "      <td>BURBERRY</td>\n",
       "      <td>Кожа</td>\n",
       "      <td>Коричневый</td>\n",
       "      <td>Средние ручки</td>\n",
       "      <td>0</td>\n",
       "      <td>Отличное состояние</td>\n",
       "      <td>Ordinary</td>\n",
       "      <td>1</td>\n",
       "      <td>0</td>\n",
       "      <td>0</td>\n",
       "      <td>Люксовые</td>\n",
       "      <td>Произведенные на фабрике</td>\n",
       "      <td>0</td>\n",
       "      <td>27000</td>\n",
       "    </tr>\n",
       "    <tr>\n",
       "      <th>4</th>\n",
       "      <td>INT M</td>\n",
       "      <td>Сумки с короткими ручками</td>\n",
       "      <td>KARL LAGERFELD</td>\n",
       "      <td>Искусственная кожа</td>\n",
       "      <td>Мульти</td>\n",
       "      <td>Средние ручки</td>\n",
       "      <td>0</td>\n",
       "      <td>Новое с биркой</td>\n",
       "      <td>Ordinary</td>\n",
       "      <td>0</td>\n",
       "      <td>0</td>\n",
       "      <td>0</td>\n",
       "      <td>Доступные</td>\n",
       "      <td>Произведенные на фабрике</td>\n",
       "      <td>0</td>\n",
       "      <td>17950</td>\n",
       "    </tr>\n",
       "  </tbody>\n",
       "</table>\n",
       "</div>"
      ],
      "text/plain": [
       "  Размер                  Категория           Бренд      Материал сумок  \\\n",
       "0  INT L  Сумки с короткими ручками     MARC JACOBS   Экзотическая кожа   \n",
       "1  INT S    Клатчи и вечерние сумки         VERSACE                Кожа   \n",
       "2  INT M          Сумки через плечо      BALENCIAGA                Кожа   \n",
       "3  INT U  Сумки с короткими ручками        BURBERRY                Кожа   \n",
       "4  INT M  Сумки с короткими ручками  KARL LAGERFELD  Искусственная кожа   \n",
       "\n",
       "         Цвет     Длина ручки  Наличие пыльника    Состояние товара    Модель  \\\n",
       "0  Серебряный   Средние ручки                 1  Отличное состояние  Ordinary   \n",
       "1      Черный  Короткие ручки                 0  Отличное состояние  Ordinary   \n",
       "2      Желтый  Длинный ремень                 0      Новое с биркой     Crush   \n",
       "3  Коричневый   Средние ручки                 0  Отличное состояние  Ordinary   \n",
       "4      Мульти   Средние ручки                 0      Новое с биркой  Ordinary   \n",
       "\n",
       "   Винтаж  Наличие коробки  Наличие сертификата Ценовая категория  \\\n",
       "0       0                0                    0           Дорогие   \n",
       "1       0                0                    0           Дорогие   \n",
       "2       0                0                    0          Люксовые   \n",
       "3       1                0                    0          Люксовые   \n",
       "4       0                0                    0         Доступные   \n",
       "\n",
       "         Метод производства  Легенда    Цена  \n",
       "0  Произведенные на фабрике        0   52000  \n",
       "1  Произведенные на фабрике        0   38000  \n",
       "2  Произведенные на фабрике        1  345000  \n",
       "3  Произведенные на фабрике        0   27000  \n",
       "4  Произведенные на фабрике        0   17950  "
      ]
     },
     "execution_count": 2,
     "metadata": {},
     "output_type": "execute_result"
    }
   ],
   "source": [
    "df = pd.read_csv('df_new_factors.csv')\n",
    "df.head()"
   ]
  },
  {
   "cell_type": "markdown",
   "id": "a46754b4",
   "metadata": {},
   "source": [
    "---"
   ]
  },
  {
   "cell_type": "markdown",
   "id": "47513e79",
   "metadata": {},
   "source": [
    "### Я выдвигаю ряд гипотез:\n",
    "1) В среднем люксовые сумки из кожи и ткани стоят одинаково;    \n",
    "2) Не менее 40% сумок Hermes являются легендарными моделями бренда;        \n",
    "3) Сумки без пыльника, в среднем стоят дешевле на 30% и более;    \n",
    "4) Пыльник присутствует у 40% сумок категории \"доступный люкс\" и более;     \n",
    "5) Среди сумок класса люкс сумки из бутика и сумки в отличном состоянии стоят всреднем одинаково;     \n",
    "6) Люксовые сумки без пыльника, в среднем стоят дешевле на 40% и более ;   \n",
    "7) Не менее 90% сумок Hermes имеет сертификат подлинности;     \n",
    "8) Сумки Hermes без сертефиката подлинности в среднем стоят дешевле на 60% и более;\n",
    "9) Люксовые сумки легендарных моделей без сертефиката подлинности в среднем стоят дешевле на 40% и более."
   ]
  },
  {
   "cell_type": "markdown",
   "id": "15bee44b",
   "metadata": {},
   "source": [
    "---"
   ]
  },
  {
   "cell_type": "markdown",
   "id": "6f48cd60",
   "metadata": {},
   "source": [
    "## Гипотеза 1\n",
    "#### В среднем люксовые сумки из кожи и ткани стоят одинаково"
   ]
  },
  {
   "cell_type": "markdown",
   "id": "3254dc3b",
   "metadata": {},
   "source": [
    "Для определения нормальности распределения выборок теперь воспользуемся ***тестом Колмогорова-Смирнова*** "
   ]
  },
  {
   "cell_type": "markdown",
   "id": "b92ae721",
   "metadata": {},
   "source": [
    "**Тест Колмогорова-Смирнова**\n",
    "\n",
    "\n",
    "$$\n",
    "\\begin{aligned}\n",
    "& H_0: Данные \\ выборок \\ имеют \\ нормальное \\ распределение \\\\\n",
    "& H_1: Данные \\ выборок \\ НЕ \\ имеют \\ нормальное \\ распределение\n",
    "\\end{aligned}\n",
    "$$"
   ]
  },
  {
   "cell_type": "code",
   "execution_count": 12,
   "id": "ff5d57e3",
   "metadata": {},
   "outputs": [
    {
     "data": {
      "text/plain": [
       "KstestResult(statistic=0.16573248407643312, pvalue=0.493391537916002, statistic_location=81000, statistic_sign=-1)"
      ]
     },
     "execution_count": 12,
     "metadata": {},
     "output_type": "execute_result"
    }
   ],
   "source": [
    "luxury = df[df['Ценовая категория'] == 'Люксовые']\n",
    "\n",
    "leather_lux = luxury[luxury['Материал сумок'] == 'Кожа']['Цена']\n",
    "textile_lux = luxury[luxury['Материал сумок'] == 'Ткань']['Цена']\n",
    "ks_2samp(leather_lux, textile_lux)"
   ]
  },
  {
   "cell_type": "markdown",
   "id": "2eecf086",
   "metadata": {},
   "source": [
    "Мы видим, что у нас достаточно доказательств для подтверждения нулевой гипотезы — *данные обеих выборок имеют нормальное распределение* (p-value больше 0.05)."
   ]
  },
  {
   "cell_type": "markdown",
   "id": "9a94eeaf",
   "metadata": {},
   "source": [
    "**Двухвыборочный t-критерий**"
   ]
  },
  {
   "cell_type": "code",
   "execution_count": 13,
   "id": "77eabf78",
   "metadata": {},
   "outputs": [
    {
     "data": {
      "text/plain": [
       "TtestResult(statistic=1.1584169355136136, pvalue=0.24751418256129423, df=337.0)"
      ]
     },
     "execution_count": 13,
     "metadata": {},
     "output_type": "execute_result"
    }
   ],
   "source": [
    "import scipy. stats as stats \n",
    "stats. ttest_ind (a=leather_lux, b=textile_lux) "
   ]
  },
  {
   "cell_type": "markdown",
   "id": "5c0a0afe",
   "metadata": {},
   "source": [
    "p-value > 0,05"
   ]
  },
  {
   "cell_type": "markdown",
   "id": "11c0f4ef",
   "metadata": {},
   "source": [
    "__Вывод:__ Гипотеза о том, что среднем люксовые сумки из кожи и ткани стоят одинаково, **не** отвергается на данном уровне значимости."
   ]
  },
  {
   "cell_type": "markdown",
   "id": "3e405ed6",
   "metadata": {},
   "source": [
    "---"
   ]
  },
  {
   "cell_type": "markdown",
   "id": "eb2ea174",
   "metadata": {},
   "source": [
    "## Гипотеза 2\n",
    "#### Не менее 40% сумок Hermes являются легендарными моделями бренда"
   ]
  },
  {
   "cell_type": "markdown",
   "id": "3932bb54",
   "metadata": {},
   "source": [
    "В данном случае мы имеем дело с долями. Пусть $p$ - вероятность того, что сумка Hermes легендарной модели.\n",
    "\n",
    "Тогда $H_{0}: p = 0.5,$ $H_{1}: p < 0.5 \\overset{H_{0}}{\\Rightarrow} z_{obs} = \\frac {\\hat {p} - p} {\\sqrt {\\frac {\\hat {p} (1 - \\hat {p})} {n}}} \\overset{asy}{\\sim} N(0, 1), \\space z_{crit} = -z_{0.95}.$\n"
   ]
  },
  {
   "cell_type": "code",
   "execution_count": 28,
   "id": "c8f6ce1a",
   "metadata": {},
   "outputs": [
    {
     "name": "stdout",
     "output_type": "stream",
     "text": [
      "-0.15141706636077498 -1.6448536269514722\n"
     ]
    },
    {
     "data": {
      "text/plain": [
       "True"
      ]
     },
     "execution_count": 28,
     "metadata": {},
     "output_type": "execute_result"
    }
   ],
   "source": [
    "hermes = df[df['Бренд'] == 'HERMES PRE-OWNED']\n",
    "n = hermes.shape[0]\n",
    "p_hat = hermes['Легенда'].mean()\n",
    "\n",
    "z_obs = (p_hat - 0.4) / (np.sqrt(p_hat * (1 - p_hat) / n))\n",
    "z_crit = -sts.norm.ppf(0.95)\n",
    "print(z_obs, z_crit)\n",
    "\n",
    "z_obs > z_crit"
   ]
  },
  {
   "cell_type": "markdown",
   "id": "4c6afc8e",
   "metadata": {},
   "source": [
    "__Вывод:__ Гипотеза о том, что не менее 40% сумок Hermes являются легендарными моделями бренда, **не** отвергается на данном уровне значимости."
   ]
  },
  {
   "cell_type": "markdown",
   "id": "3f7a8c21",
   "metadata": {},
   "source": [
    "---"
   ]
  },
  {
   "cell_type": "markdown",
   "id": "94dd67c3",
   "metadata": {},
   "source": [
    "## Гипотеза 3\n",
    "#### Сумки с пыльником, в среднем стоят дороже на 30% и более"
   ]
  },
  {
   "cell_type": "markdown",
   "id": "702f1cd3",
   "metadata": {},
   "source": [
    "Здесь рассмотрим две выборки, независимые по условию: $X$ - цена сумок без пыльника, $Y$ - цена сумок с пыльником.\n",
    "\n",
    "Тогда $H_{0}: \\mu_{x} = 0.7 \\mu_{Y}, \\space H_{1}: \\mu_{X} > 0.7 \\mu_{Y} \\Rightarrow$ рассмотрим случайную величину $\\bar{X} - 0.7 \\bar{Y} \\overset{asy}{\\sim} N(\\mu_{Y} - 0.7 \\mu_{Y}, \\frac {\\sigma_{X}^2} {n_{X}} + 0.49 \\frac {\\sigma_{Y}^2} {n_{Y}}) \\overset{H_{0}}{\\Rightarrow}$\n",
    "\n",
    "$\\overset{H_{0}}{\\Rightarrow} z_{obs} = \\frac {\\bar{X} - \\scriptstyle 0.7 \\bar{Y}} {\\sqrt{\\frac {\\hat{\\sigma}_{X}^2} {n_{X}} + \\scriptstyle 0.49 \\frac {\\hat{\\sigma}_{Y}^2} {n_{Y}}}} \\overset{asy}{\\sim} N(0, 1), \\space z_{crit} = z_{0.95}.$"
   ]
  },
  {
   "cell_type": "code",
   "execution_count": 25,
   "id": "3f1fe130",
   "metadata": {},
   "outputs": [
    {
     "name": "stdout",
     "output_type": "stream",
     "text": [
      "-1.6303437920505335 1.6448536269514722\n"
     ]
    },
    {
     "data": {
      "text/plain": [
       "True"
      ]
     },
     "execution_count": 25,
     "metadata": {},
     "output_type": "execute_result"
    }
   ],
   "source": [
    "\n",
    "X = df[df['Наличие пыльника'] == 0]['Цена'].values\n",
    "Y = df[df['Наличие пыльника'] == 1]['Цена'].values\n",
    "\n",
    "n_X = X.shape[0]\n",
    "n_Y = Y.shape[0]\n",
    "\n",
    "X_mean = X.mean()\n",
    "Y_mean = Y.mean()\n",
    "\n",
    "X_var = X.var(ddof=1)\n",
    "Y_var = Y.var(ddof=1)\n",
    "\n",
    "z_obs = (X_mean - 0.7 * Y_mean) / np.sqrt(X_var / n_X + 0.49 * Y_var / n_Y)\n",
    "z_crit = sts.norm.ppf(0.95)\n",
    "print(z_obs, z_crit)\n",
    "\n",
    "# Наблюдаемое значение меньше критического\n",
    "z_obs < z_crit"
   ]
  },
  {
   "cell_type": "markdown",
   "id": "3e6f4c1f",
   "metadata": {},
   "source": [
    "__Вывод:__ Гипотеза о том, что сумки с пыльником, в среднем стоят дороже на 30% и более, **не** отвергается на данном уровне значимости."
   ]
  },
  {
   "cell_type": "markdown",
   "id": "b65e564f",
   "metadata": {},
   "source": [
    "---"
   ]
  },
  {
   "cell_type": "markdown",
   "id": "03b46d0c",
   "metadata": {},
   "source": [
    "## Гипотеза 4\n",
    "#### Пыльник присутствует у 40% сумок категории \"доступный люкс\" и более"
   ]
  },
  {
   "cell_type": "markdown",
   "id": "29ca83f2",
   "metadata": {},
   "source": [
    "В данном случае мы имеем дело с долями. Пусть $p$ - вероятность того, что сумка категории \"доступный люкс\" имеет пыльник.\n",
    "\n",
    "Тогда $H_{0}: p = 0.5,$ $H_{1}: p < 0.5 \\overset{H_{0}}{\\Rightarrow} z_{obs} = \\frac {\\hat {p} - p} {\\sqrt {\\frac {\\hat {p} (1 - \\hat {p})} {n}}} \\overset{asy}{\\sim} N(0, 1), \\space z_{crit} = -z_{0.95}.$\n"
   ]
  },
  {
   "cell_type": "code",
   "execution_count": 35,
   "id": "967f6df9",
   "metadata": {},
   "outputs": [
    {
     "name": "stdout",
     "output_type": "stream",
     "text": [
      "-2.836155082112896 -1.6448536269514722\n"
     ]
    },
    {
     "data": {
      "text/plain": [
       "False"
      ]
     },
     "execution_count": 35,
     "metadata": {},
     "output_type": "execute_result"
    }
   ],
   "source": [
    "acessible_luxury = df[df['Ценовая категория'] == 'Доступный люкс']\n",
    "n = acessible_luxury.shape[0]\n",
    "p_hat = acessible_luxury['Наличие пыльника'].mean()\n",
    "\n",
    "z_obs = (p_hat - 0.4) / (np.sqrt(p_hat * (1 - p_hat) / n))\n",
    "z_crit = -sts.norm.ppf(0.95)\n",
    "print(z_obs, z_crit)\n",
    "\n",
    "z_obs > z_crit"
   ]
  },
  {
   "cell_type": "markdown",
   "id": "45b04409",
   "metadata": {},
   "source": [
    "**Вывод:** Отвергаем данную гипотезу. Следовательно, наличие или отсутсвие пыльника это скорее особенность ценовой категории, чем фактор влияющий на цену сумки независимо от категории"
   ]
  },
  {
   "cell_type": "markdown",
   "id": "03d59bba",
   "metadata": {},
   "source": [
    "---"
   ]
  },
  {
   "cell_type": "markdown",
   "id": "6cfc116c",
   "metadata": {},
   "source": [
    "## Гипотеза 5\n",
    "### Среди сумок класса люкс сумки из бутика и сумки в отличном состоянии стоят всреднем одинаково"
   ]
  },
  {
   "cell_type": "markdown",
   "id": "b91b99bf",
   "metadata": {},
   "source": [
    "**Тест Колмогорова-Смирнова**\n",
    "\n",
    "\n",
    "$$\n",
    "\\begin{aligned}\n",
    "& H_0: Данные \\ выборок \\ имеют \\ нормальное \\ распределение \\\\\n",
    "& H_1: Данные \\ выборок \\ НЕ \\ имеют \\ нормальное \\ распределение\n",
    "\\end{aligned}\n",
    "$$"
   ]
  },
  {
   "cell_type": "code",
   "execution_count": 37,
   "id": "0cdc061f",
   "metadata": {},
   "outputs": [
    {
     "data": {
      "text/plain": [
       "KstestResult(statistic=0.3473086408579768, pvalue=9.717253876771703e-12, statistic_location=125000, statistic_sign=-1)"
      ]
     },
     "execution_count": 37,
     "metadata": {},
     "output_type": "execute_result"
    }
   ],
   "source": [
    "luxury = df[df['Ценовая категория'] == 'Люксовые']\n",
    "\n",
    "butique_lux = luxury[luxury['Состояние товара'] == 'Новое с биркой']['Цена']\n",
    "fine_lux = luxury[luxury['Состояние товара'] == 'Отличное состояние']['Цена']\n",
    "ks_2samp(butique_lux, fine_lux)"
   ]
  },
  {
   "cell_type": "markdown",
   "id": "61c83689",
   "metadata": {},
   "source": [
    "Мы видим, что у нас достаточно доказательств для отвержения нулевой гипотезы — *данные обеих выборок не имеют нормального распределения* (p-value меньше 0.05)."
   ]
  },
  {
   "cell_type": "markdown",
   "id": "14104087",
   "metadata": {},
   "source": [
    "**Критерий Уилкоксона**\n",
    "\n",
    "Так как нормальность выборок не подтвердилась, а значит предпосылки для использования t-статистики не были выполнены, прибегнем к использованию **Критерия Уилкоксона** (в силу того, что наши выборки зависимы). \n",
    "\n",
    "Проверим их объем (<25): "
   ]
  },
  {
   "cell_type": "code",
   "execution_count": 40,
   "id": "70e4ee82",
   "metadata": {},
   "outputs": [
    {
     "name": "stdout",
     "output_type": "stream",
     "text": [
      "Длина выборки сумок из бутика: 229\n",
      "Длина выборки сумок в отличном состоянии: 193\n"
     ]
    }
   ],
   "source": [
    "n = len(butique_lux)\n",
    "m = len(fine_lux)\n",
    "print(f'Длина выборки сумок из бутика: {n}')\n",
    "print(f'Длина выборки сумок в отличном состоянии: {m}')"
   ]
  },
  {
   "cell_type": "markdown",
   "id": "5ffa6fe8",
   "metadata": {},
   "source": [
    "\">25\", следовательно используем **Z-score**"
   ]
  },
  {
   "cell_type": "markdown",
   "id": "7666548b",
   "metadata": {},
   "source": [
    "Для проверки гипотезы о том, что  𝜇\n",
    "  цен сумок из бутика равно  𝜇\n",
    "  цен сумок в отличном состоянии, воспользуемся z-статистикой, так как мы не знаем дисперсий наших данных."
   ]
  },
  {
   "cell_type": "markdown",
   "id": "04d3108e",
   "metadata": {},
   "source": [
    "Сформулируем гипотезы:\n",
    "\n",
    "$$\n",
    "\\begin{aligned}\n",
    "& H_0: \\mu_{boutique} = \\mu_{fine} \\\\\n",
    "& H_1: \\mu_{fine} < \\mu_{boutique}\n",
    "\\end{aligned}\n",
    "$$"
   ]
  },
  {
   "cell_type": "markdown",
   "id": "5ed94d02",
   "metadata": {},
   "source": [
    "Уровень значимости $\\alpha$ = 0.05 "
   ]
  },
  {
   "cell_type": "markdown",
   "id": "36e9db36",
   "metadata": {},
   "source": [
    "*Формула z-статистики:*\n",
    "\n",
    "$$\n",
    "z = \\frac {\\bar{X} - \\bar{Y} - \\mu_0}{\\sqrt{\\frac {\\hat{\\sigma}_X^2}{n} + {\\frac {\\hat{\\sigma}_Y^2}{m}}}}\n",
    "$$"
   ]
  },
  {
   "cell_type": "code",
   "execution_count": 46,
   "id": "5ab116d6",
   "metadata": {},
   "outputs": [
    {
     "data": {
      "text/plain": [
       "3.3057975656657628"
      ]
     },
     "execution_count": 46,
     "metadata": {},
     "output_type": "execute_result"
    }
   ],
   "source": [
    "mean_boutique = butique_lux .mean()\n",
    "mean_fine = fine_lux.mean()\n",
    "var_boutique = st.variance(butique_lux)\n",
    "var_fine = st.variance(fine_lux)\n",
    "z_test = (mean_boutique - mean_fine - 0)/(np.sqrt(var_boutique/n +var_fine/m))\n",
    "z_test"
   ]
  },
  {
   "cell_type": "code",
   "execution_count": 47,
   "id": "0ec07888",
   "metadata": {},
   "outputs": [
    {
     "name": "stdout",
     "output_type": "stream",
     "text": [
      "Нет оснований отвергать H0\n"
     ]
    }
   ],
   "source": [
    "alpha = 0.05\n",
    "z_crit = sts.norm.ppf(alpha)\n",
    "if z_test < z_crit:\n",
    "    print(\"H0 отвергается\")\n",
    "else:\n",
    "    print(\"Нет оснований отвергать H0\")"
   ]
  },
  {
   "cell_type": "markdown",
   "id": "e2064bf9",
   "metadata": {},
   "source": [
    "**Вывод**: Мы видим, что полученное нами значение больше левостороннего критического значения Z, поэтому результаты теста являются статистически не значимыми. Вот почему у нас нет оснований для того, чтобы отвергнуть нулевую гипотезу, а значит среди сумок класса люкс сумки из бутика и сумки в отличном состоянии стоят всреднем одинаково."
   ]
  },
  {
   "cell_type": "markdown",
   "id": "0763a7ea",
   "metadata": {},
   "source": [
    "---"
   ]
  },
  {
   "cell_type": "markdown",
   "id": "e1d9441e",
   "metadata": {},
   "source": [
    "## Гипотеза 6\n",
    "#### Люксовые сумки без пыльника, в среднем стоят дешевле на 40% и более"
   ]
  },
  {
   "cell_type": "markdown",
   "id": "93faca3b",
   "metadata": {},
   "source": [
    "Здесь рассмотрим две выборки, независимые по условию: $X$ - цена люксовых сумок без пыльника, $Y$ - цена люксовых сумок с пыльником.\n",
    "\n",
    "Тогда $H_{0}: \\mu_{x} = 0.6 \\mu_{Y}, \\space H_{1}: \\mu_{X} > 0.6 \\mu_{Y} \\Rightarrow$ рассмотрим случайную величину $\\bar{X} - 0.6 \\bar{Y} \\overset{asy}{\\sim} N(\\mu_{Y} - 0.6 \\mu_{Y}, \\frac {\\sigma_{X}^2} {n_{X}} + 0.36 \\frac {\\sigma_{Y}^2} {n_{Y}}) \\overset{H_{0}}{\\Rightarrow}$\n",
    "\n",
    "$\\overset{H_{0}}{\\Rightarrow} z_{obs} = \\frac {\\bar{X} - \\scriptstyle 0.6 \\bar{Y}} {\\sqrt{\\frac {\\hat{\\sigma}_{X}^2} {n_{X}} + \\scriptstyle 0.36 \\frac {\\hat{\\sigma}_{Y}^2} {n_{Y}}}} \\overset{asy}{\\sim} N(0, 1), \\space z_{crit} = z_{0.95}.$"
   ]
  },
  {
   "cell_type": "code",
   "execution_count": 52,
   "id": "6b3f098d",
   "metadata": {},
   "outputs": [
    {
     "name": "stdout",
     "output_type": "stream",
     "text": [
      "0.6890059346329821 1.6448536269514722\n"
     ]
    },
    {
     "data": {
      "text/plain": [
       "True"
      ]
     },
     "execution_count": 52,
     "metadata": {},
     "output_type": "execute_result"
    }
   ],
   "source": [
    "X = luxury[luxury['Наличие пыльника'] == 0]['Цена'].values\n",
    "Y = luxury[luxury['Наличие пыльника'] == 1]['Цена'].values\n",
    "\n",
    "n_X = X.shape[0]\n",
    "n_Y = Y.shape[0]\n",
    "\n",
    "X_mean = X.mean()\n",
    "Y_mean = Y.mean()\n",
    "\n",
    "X_var = X.var(ddof=1)\n",
    "Y_var = Y.var(ddof=1)\n",
    "\n",
    "z_obs = (X_mean - 0.6 * Y_mean) / np.sqrt(X_var / n_X + 0.36 * Y_var / n_Y)\n",
    "z_crit = sts.norm.ppf(0.95)\n",
    "print(z_obs, z_crit)\n",
    "\n",
    "# Наблюдаемое значение меньше критического\n",
    "z_obs < z_crit"
   ]
  },
  {
   "cell_type": "markdown",
   "id": "dab63958",
   "metadata": {},
   "source": [
    "__Вывод:__ Гипотеза о том, что люксовые сумки без пыльника, в среднем стоят дешевле на 40% и более, **не** отвергается на данном уровне значимости. Следовательно, для очень дорогих сумок наличие пыльника сильно положительно влияет на цену"
   ]
  },
  {
   "cell_type": "markdown",
   "id": "9d9cf21f",
   "metadata": {},
   "source": [
    "---"
   ]
  },
  {
   "cell_type": "markdown",
   "id": "473600f5",
   "metadata": {},
   "source": [
    "## Гипотеза 7\n",
    "### Не менее 90% сумок Hermes имеет сертификат подлинности"
   ]
  },
  {
   "cell_type": "markdown",
   "id": "e17b7ee7",
   "metadata": {},
   "source": [
    "В данном случае мы имеем дело с долями. Пусть $p$ - вероятность того, что сумка Hermes имеет сертификат подлинности.\n",
    "\n",
    "Тогда $H_{0}: p = 0.9,$ $H_{1}: p < 0.9 \\overset{H_{0}}{\\Rightarrow} z_{obs} = \\frac {\\hat {p} - p} {\\sqrt {\\frac {\\hat {p} (1 - \\hat {p})} {n}}} \\overset{asy}{\\sim} N(0, 1), \\space z_{crit} = -z_{0.95}.$"
   ]
  },
  {
   "cell_type": "code",
   "execution_count": 53,
   "id": "400df563",
   "metadata": {},
   "outputs": [
    {
     "name": "stdout",
     "output_type": "stream",
     "text": [
      "-9.123908455454432 -1.6448536269514722\n"
     ]
    },
    {
     "data": {
      "text/plain": [
       "False"
      ]
     },
     "execution_count": 53,
     "metadata": {},
     "output_type": "execute_result"
    }
   ],
   "source": [
    "hermes = df[df['Бренд'] == 'HERMES PRE-OWNED']\n",
    "n = hermes.shape[0]\n",
    "p_hat = hermes['Наличие пыльника'].mean()\n",
    "\n",
    "z_obs = (p_hat - 0.9) / (np.sqrt(p_hat * (1 - p_hat) / n))\n",
    "z_crit = -sts.norm.ppf(0.95)\n",
    "print(z_obs, z_crit)\n",
    "\n",
    "z_obs > z_crit"
   ]
  },
  {
   "cell_type": "markdown",
   "id": "49aa8e1c",
   "metadata": {},
   "source": [
    "__Вывод:__ Гипотеза о том, что не менее 90% сумок Hermes имеет сертификат подлинности, отвергается на данном уровне значимости."
   ]
  },
  {
   "cell_type": "markdown",
   "id": "380e42c2",
   "metadata": {},
   "source": [
    "---"
   ]
  },
  {
   "cell_type": "markdown",
   "id": "e4cd93dc",
   "metadata": {},
   "source": [
    "## Гипотеза 8\n",
    "### Сумки Hermes без сертефиката подлинности в среднем стоят дешевле на 60% и более"
   ]
  },
  {
   "cell_type": "markdown",
   "id": "f23a158d",
   "metadata": {},
   "source": [
    "Здесь рассмотрим две выборки, независимые по условию: $X$ - цена сумок Hermes без сертификата, $Y$ - цена сумок Hermes с сертификатом.\n",
    "\n",
    "Тогда $H_{0}: \\mu_{x} = 0.4 \\mu_{Y}, \\space H_{1}: \\mu_{X} > 0.4 \\mu_{Y} \\Rightarrow$ рассмотрим случайную величину $\\bar{X} - 0.4 \\bar{Y} \\overset{asy}{\\sim} N(\\mu_{Y} - 0.4 \\mu_{Y}, \\frac {\\sigma_{X}^2} {n_{X}} + 0.16 \\frac {\\sigma_{Y}^2} {n_{Y}}) \\overset{H_{0}}{\\Rightarrow}$\n",
    "\n",
    "$\\overset{H_{0}}{\\Rightarrow} z_{obs} = \\frac {\\bar{X} - \\scriptstyle 0.4 \\bar{Y}} {\\sqrt{\\frac {\\hat{\\sigma}_{X}^2} {n_{X}} + \\scriptstyle 0.16 \\frac {\\hat{\\sigma}_{Y}^2} {n_{Y}}}} \\overset{asy}{\\sim} N(0, 1), \\space z_{crit} = z_{0.95}.$"
   ]
  },
  {
   "cell_type": "code",
   "execution_count": 75,
   "id": "3b3dbbb4",
   "metadata": {},
   "outputs": [
    {
     "name": "stdout",
     "output_type": "stream",
     "text": [
      "1.5075677964471286 1.6448536269514722\n"
     ]
    },
    {
     "data": {
      "text/plain": [
       "True"
      ]
     },
     "execution_count": 75,
     "metadata": {},
     "output_type": "execute_result"
    }
   ],
   "source": [
    "X = hermes[hermes['Наличие сертификата'] == 0]['Цена'].values\n",
    "Y = hermes[hermes['Наличие сертификата'] == 1]['Цена'].values\n",
    "\n",
    "n_X = X.shape[0]\n",
    "n_Y = Y.shape[0]\n",
    "\n",
    "X_mean = X.mean()\n",
    "Y_mean = Y.mean()\n",
    "\n",
    "X_var = X.var(ddof=1)\n",
    "Y_var = Y.var(ddof=1)\n",
    "\n",
    "z_obs = (X_mean - 0.4 * Y_mean) / np.sqrt(X_var / n_X + 0.16 * Y_var / n_Y)\n",
    "z_crit = sts.norm.ppf(0.95)\n",
    "print(z_obs, z_crit)\n",
    "\n",
    "# Наблюдаемое значение меньше критического\n",
    "z_obs < z_crit"
   ]
  },
  {
   "cell_type": "markdown",
   "id": "59d33173",
   "metadata": {},
   "source": [
    "__Вывод:__ Гипотеза о том, что сумки Hermes без сертефиката подлинности в среднем стоят дешевле на 60% и более, **не** отвергается на данном уровне значимости."
   ]
  },
  {
   "cell_type": "markdown",
   "id": "400205f9",
   "metadata": {},
   "source": [
    "---"
   ]
  },
  {
   "cell_type": "markdown",
   "id": "69c7bd90",
   "metadata": {},
   "source": [
    "## Гипотеза 9\n",
    "### Люксовые сумки легендарных моделей без сертефиката подлинности в среднем стоят дешевле на 40% и более"
   ]
  },
  {
   "cell_type": "markdown",
   "id": "5a585f8e",
   "metadata": {},
   "source": [
    "Здесь рассмотрим две выборки, независимые по условию: $X$ - цена люксовых сумок легендарных моделей без сертификата, $Y$ - цена люксовых сумок легендарных моделей с сертификатом.\n",
    "\n",
    "Тогда $H_{0}: \\mu_{x} = 0.6 \\mu_{Y}, \\space H_{1}: \\mu_{X} > 0.6 \\mu_{Y} \\Rightarrow$ рассмотрим случайную величину $\\bar{X} - 0.6 \\bar{Y} \\overset{asy}{\\sim} N(\\mu_{Y} - 0.6 \\mu_{Y}, \\frac {\\sigma_{X}^2} {n_{X}} + 0.36 \\frac {\\sigma_{Y}^2} {n_{Y}}) \\overset{H_{0}}{\\Rightarrow}$\n",
    "\n",
    "$\\overset{H_{0}}{\\Rightarrow} z_{obs} = \\frac {\\bar{X} - \\scriptstyle 0.6 \\bar{Y}} {\\sqrt{\\frac {\\hat{\\sigma}_{X}^2} {n_{X}} + \\scriptstyle 0.36 \\frac {\\hat{\\sigma}_{Y}^2} {n_{Y}}}} \\overset{asy}{\\sim} N(0, 1), \\space z_{crit} = z_{0.95}.$"
   ]
  },
  {
   "cell_type": "code",
   "execution_count": 74,
   "id": "320426e8",
   "metadata": {},
   "outputs": [
    {
     "name": "stdout",
     "output_type": "stream",
     "text": [
      "0.7973813315539116 1.6448536269514722\n"
     ]
    },
    {
     "data": {
      "text/plain": [
       "True"
      ]
     },
     "execution_count": 74,
     "metadata": {},
     "output_type": "execute_result"
    }
   ],
   "source": [
    "legendary = luxury[luxury['Легенда'] == 1]\n",
    "X = legendary[legendary['Наличие сертификата'] == 0]['Цена'].values\n",
    "Y = legendary[legendary['Наличие сертификата'] == 1]['Цена'].values\n",
    "\n",
    "n_X = X.shape[0]\n",
    "n_Y = Y.shape[0]\n",
    "\n",
    "X_mean = X.mean()\n",
    "Y_mean = Y.mean()\n",
    "\n",
    "X_var = X.var(ddof=1)\n",
    "Y_var = Y.var(ddof=1)\n",
    "\n",
    "z_obs = (X_mean - 0.6 * Y_mean) / np.sqrt(X_var / n_X + 0.36 * Y_var / n_Y)\n",
    "z_crit = sts.norm.ppf(0.95)\n",
    "print(z_obs, z_crit)\n",
    "\n",
    "# Наблюдаемое значение меньше критического\n",
    "z_obs < z_crit"
   ]
  },
  {
   "cell_type": "markdown",
   "id": "c7907d9f",
   "metadata": {},
   "source": [
    "**Вывод:** Гипотеза о том, что люксовые сумки легендарных моделей без сертефиката подлинности в среднем стоят дешевле на 40% и более, не отвергается на данном уровне значимости. Это означает, что для других легендарных сумок помимо сумок Hermes отсутствие сертефиката подлинности очень сильно сказывается на стоимости."
   ]
  }
 ],
 "metadata": {
  "kernelspec": {
   "display_name": "Python 3 (ipykernel)",
   "language": "python",
   "name": "python3"
  },
  "language_info": {
   "codemirror_mode": {
    "name": "ipython",
    "version": 3
   },
   "file_extension": ".py",
   "mimetype": "text/x-python",
   "name": "python",
   "nbconvert_exporter": "python",
   "pygments_lexer": "ipython3",
   "version": "3.11.3"
  }
 },
 "nbformat": 4,
 "nbformat_minor": 5
}
